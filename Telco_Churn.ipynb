{
  "nbformat": 4,
  "nbformat_minor": 0,
  "metadata": {
    "colab": {
      "name": "Telco Churn.ipynb",
      "version": "0.3.2",
      "provenance": [],
      "include_colab_link": true
    },
    "language_info": {
      "codemirror_mode": {
        "name": "ipython",
        "version": 3
      },
      "file_extension": ".py",
      "mimetype": "text/x-python",
      "name": "python",
      "nbconvert_exporter": "python",
      "pygments_lexer": "ipython3",
      "version": "3.7.0"
    },
    "kernelspec": {
      "display_name": "Python 3",
      "language": "python",
      "name": "python3"
    }
  },
  "cells": [
    {
      "cell_type": "markdown",
      "metadata": {
        "id": "view-in-github",
        "colab_type": "text"
      },
      "source": [
        "<a href=\"https://colab.research.google.com/github/Mark-maker/Telco-Churn-Prediction/blob/master/Telco_Churn.ipynb\" target=\"_parent\"><img src=\"https://colab.research.google.com/assets/colab-badge.svg\" alt=\"Open In Colab\"/></a>"
      ]
    },
    {
      "metadata": {
        "id": "IFoMEzFq4JO_",
        "colab_type": "text"
      },
      "cell_type": "markdown",
      "source": [
        "This dataset is taken from** Kaggle** - **Telco Customer Churn** is a **classification Problem**.\n",
        "\n",
        "**Customer Churn**, in simple words can be defined as losing an existing customer to a competitor. It's widely calcuted in terms of percentages of total customers of previous quarter's.\n",
        "Customer Churn is a very common problem across multiple industries such as **Telecom, Banking, Retail, Fashion** etc.   \n",
        "\n",
        "\n",
        "\n",
        "---\n",
        "\n",
        "\n",
        "\n",
        "\n",
        "The **Telco Dataset** has various features such as **bold text**Gender, MonthlyCharges, InternetService, PaymentMethod etc along with out Target Variable **Churn** (**Yes** (Churned) or **No** (Not Churned)). Our end goal is to predict whoever Customers are going to churn.. \n",
        "\n",
        "Let's get started...\n"
      ]
    },
    {
      "metadata": {
        "id": "3x_j1ubxD09p",
        "colab_type": "code",
        "colab": {}
      },
      "cell_type": "code",
      "source": [
        "import pandas as pd\n",
        "import matplotlib.pyplot as plt\n",
        "import numpy as np\n",
        "import seaborn as sns\n",
        "from sklearn.svm import SVC"
      ],
      "execution_count": 0,
      "outputs": []
    },
    {
      "metadata": {
        "id": "KwMtDK23D09u",
        "colab_type": "code",
        "colab": {}
      },
      "cell_type": "code",
      "source": [
        "df=pd.read_csv('E:\\\\telco-customer-churn\\\\Telco-Customer-Churn.csv')"
      ],
      "execution_count": 0,
      "outputs": []
    },
    {
      "metadata": {
        "id": "y2UHsfX9D09w",
        "colab_type": "code",
        "colab": {},
        "outputId": "de25bbf1-b536-48cb-b35d-18a35c3b509e"
      },
      "cell_type": "code",
      "source": [
        "df.columns"
      ],
      "execution_count": 0,
      "outputs": [
        {
          "output_type": "execute_result",
          "data": {
            "text/plain": [
              "Index(['customerID', 'gender', 'SeniorCitizen', 'Partner', 'Dependents',\n",
              "       'tenure', 'PhoneService', 'MultipleLines', 'InternetService',\n",
              "       'OnlineSecurity', 'OnlineBackup', 'DeviceProtection', 'TechSupport',\n",
              "       'StreamingTV', 'StreamingMovies', 'Contract', 'PaperlessBilling',\n",
              "       'PaymentMethod', 'MonthlyCharges', 'TotalCharges', 'Churn'],\n",
              "      dtype='object')"
            ]
          },
          "metadata": {
            "tags": []
          },
          "execution_count": 448
        }
      ]
    },
    {
      "metadata": {
        "id": "_Eg0qWHND092",
        "colab_type": "code",
        "colab": {},
        "outputId": "badfde50-7d1d-4eeb-f375-ec982c8d29c4"
      },
      "cell_type": "code",
      "source": [
        "df.head()"
      ],
      "execution_count": 0,
      "outputs": [
        {
          "output_type": "execute_result",
          "data": {
            "text/html": [
              "<div>\n",
              "<style scoped>\n",
              "    .dataframe tbody tr th:only-of-type {\n",
              "        vertical-align: middle;\n",
              "    }\n",
              "\n",
              "    .dataframe tbody tr th {\n",
              "        vertical-align: top;\n",
              "    }\n",
              "\n",
              "    .dataframe thead th {\n",
              "        text-align: right;\n",
              "    }\n",
              "</style>\n",
              "<table border=\"1\" class=\"dataframe\">\n",
              "  <thead>\n",
              "    <tr style=\"text-align: right;\">\n",
              "      <th></th>\n",
              "      <th>customerID</th>\n",
              "      <th>gender</th>\n",
              "      <th>SeniorCitizen</th>\n",
              "      <th>Partner</th>\n",
              "      <th>Dependents</th>\n",
              "      <th>tenure</th>\n",
              "      <th>PhoneService</th>\n",
              "      <th>MultipleLines</th>\n",
              "      <th>InternetService</th>\n",
              "      <th>OnlineSecurity</th>\n",
              "      <th>...</th>\n",
              "      <th>DeviceProtection</th>\n",
              "      <th>TechSupport</th>\n",
              "      <th>StreamingTV</th>\n",
              "      <th>StreamingMovies</th>\n",
              "      <th>Contract</th>\n",
              "      <th>PaperlessBilling</th>\n",
              "      <th>PaymentMethod</th>\n",
              "      <th>MonthlyCharges</th>\n",
              "      <th>TotalCharges</th>\n",
              "      <th>Churn</th>\n",
              "    </tr>\n",
              "  </thead>\n",
              "  <tbody>\n",
              "    <tr>\n",
              "      <th>0</th>\n",
              "      <td>7590-VHVEG</td>\n",
              "      <td>Female</td>\n",
              "      <td>0</td>\n",
              "      <td>Yes</td>\n",
              "      <td>No</td>\n",
              "      <td>1</td>\n",
              "      <td>No</td>\n",
              "      <td>No phone service</td>\n",
              "      <td>DSL</td>\n",
              "      <td>No</td>\n",
              "      <td>...</td>\n",
              "      <td>No</td>\n",
              "      <td>No</td>\n",
              "      <td>No</td>\n",
              "      <td>No</td>\n",
              "      <td>Month-to-month</td>\n",
              "      <td>Yes</td>\n",
              "      <td>Electronic check</td>\n",
              "      <td>29.85</td>\n",
              "      <td>29.85</td>\n",
              "      <td>No</td>\n",
              "    </tr>\n",
              "    <tr>\n",
              "      <th>1</th>\n",
              "      <td>5575-GNVDE</td>\n",
              "      <td>Male</td>\n",
              "      <td>0</td>\n",
              "      <td>No</td>\n",
              "      <td>No</td>\n",
              "      <td>34</td>\n",
              "      <td>Yes</td>\n",
              "      <td>No</td>\n",
              "      <td>DSL</td>\n",
              "      <td>Yes</td>\n",
              "      <td>...</td>\n",
              "      <td>Yes</td>\n",
              "      <td>No</td>\n",
              "      <td>No</td>\n",
              "      <td>No</td>\n",
              "      <td>One year</td>\n",
              "      <td>No</td>\n",
              "      <td>Mailed check</td>\n",
              "      <td>56.95</td>\n",
              "      <td>1889.5</td>\n",
              "      <td>No</td>\n",
              "    </tr>\n",
              "    <tr>\n",
              "      <th>2</th>\n",
              "      <td>3668-QPYBK</td>\n",
              "      <td>Male</td>\n",
              "      <td>0</td>\n",
              "      <td>No</td>\n",
              "      <td>No</td>\n",
              "      <td>2</td>\n",
              "      <td>Yes</td>\n",
              "      <td>No</td>\n",
              "      <td>DSL</td>\n",
              "      <td>Yes</td>\n",
              "      <td>...</td>\n",
              "      <td>No</td>\n",
              "      <td>No</td>\n",
              "      <td>No</td>\n",
              "      <td>No</td>\n",
              "      <td>Month-to-month</td>\n",
              "      <td>Yes</td>\n",
              "      <td>Mailed check</td>\n",
              "      <td>53.85</td>\n",
              "      <td>108.15</td>\n",
              "      <td>Yes</td>\n",
              "    </tr>\n",
              "    <tr>\n",
              "      <th>3</th>\n",
              "      <td>7795-CFOCW</td>\n",
              "      <td>Male</td>\n",
              "      <td>0</td>\n",
              "      <td>No</td>\n",
              "      <td>No</td>\n",
              "      <td>45</td>\n",
              "      <td>No</td>\n",
              "      <td>No phone service</td>\n",
              "      <td>DSL</td>\n",
              "      <td>Yes</td>\n",
              "      <td>...</td>\n",
              "      <td>Yes</td>\n",
              "      <td>Yes</td>\n",
              "      <td>No</td>\n",
              "      <td>No</td>\n",
              "      <td>One year</td>\n",
              "      <td>No</td>\n",
              "      <td>Bank transfer (automatic)</td>\n",
              "      <td>42.30</td>\n",
              "      <td>1840.75</td>\n",
              "      <td>No</td>\n",
              "    </tr>\n",
              "    <tr>\n",
              "      <th>4</th>\n",
              "      <td>9237-HQITU</td>\n",
              "      <td>Female</td>\n",
              "      <td>0</td>\n",
              "      <td>No</td>\n",
              "      <td>No</td>\n",
              "      <td>2</td>\n",
              "      <td>Yes</td>\n",
              "      <td>No</td>\n",
              "      <td>Fiber optic</td>\n",
              "      <td>No</td>\n",
              "      <td>...</td>\n",
              "      <td>No</td>\n",
              "      <td>No</td>\n",
              "      <td>No</td>\n",
              "      <td>No</td>\n",
              "      <td>Month-to-month</td>\n",
              "      <td>Yes</td>\n",
              "      <td>Electronic check</td>\n",
              "      <td>70.70</td>\n",
              "      <td>151.65</td>\n",
              "      <td>Yes</td>\n",
              "    </tr>\n",
              "  </tbody>\n",
              "</table>\n",
              "<p>5 rows × 21 columns</p>\n",
              "</div>"
            ],
            "text/plain": [
              "   customerID  gender  SeniorCitizen Partner Dependents  tenure PhoneService  \\\n",
              "0  7590-VHVEG  Female              0     Yes         No       1           No   \n",
              "1  5575-GNVDE    Male              0      No         No      34          Yes   \n",
              "2  3668-QPYBK    Male              0      No         No       2          Yes   \n",
              "3  7795-CFOCW    Male              0      No         No      45           No   \n",
              "4  9237-HQITU  Female              0      No         No       2          Yes   \n",
              "\n",
              "      MultipleLines InternetService OnlineSecurity  ...  DeviceProtection  \\\n",
              "0  No phone service             DSL             No  ...                No   \n",
              "1                No             DSL            Yes  ...               Yes   \n",
              "2                No             DSL            Yes  ...                No   \n",
              "3  No phone service             DSL            Yes  ...               Yes   \n",
              "4                No     Fiber optic             No  ...                No   \n",
              "\n",
              "  TechSupport StreamingTV StreamingMovies        Contract PaperlessBilling  \\\n",
              "0          No          No              No  Month-to-month              Yes   \n",
              "1          No          No              No        One year               No   \n",
              "2          No          No              No  Month-to-month              Yes   \n",
              "3         Yes          No              No        One year               No   \n",
              "4          No          No              No  Month-to-month              Yes   \n",
              "\n",
              "               PaymentMethod MonthlyCharges  TotalCharges Churn  \n",
              "0           Electronic check          29.85         29.85    No  \n",
              "1               Mailed check          56.95        1889.5    No  \n",
              "2               Mailed check          53.85        108.15   Yes  \n",
              "3  Bank transfer (automatic)          42.30       1840.75    No  \n",
              "4           Electronic check          70.70        151.65   Yes  \n",
              "\n",
              "[5 rows x 21 columns]"
            ]
          },
          "metadata": {
            "tags": []
          },
          "execution_count": 549
        }
      ]
    },
    {
      "metadata": {
        "scrolled": false,
        "id": "EyYu8JOMD096",
        "colab_type": "code",
        "colab": {},
        "outputId": "fc0bea75-7014-4e68-fad8-326e40d0856a"
      },
      "cell_type": "code",
      "source": [
        "df.isna().sum()"
      ],
      "execution_count": 0,
      "outputs": [
        {
          "output_type": "execute_result",
          "data": {
            "text/plain": [
              "customerID          0\n",
              "gender              0\n",
              "SeniorCitizen       0\n",
              "Partner             0\n",
              "Dependents          0\n",
              "tenure              0\n",
              "PhoneService        0\n",
              "MultipleLines       0\n",
              "InternetService     0\n",
              "OnlineSecurity      0\n",
              "OnlineBackup        0\n",
              "DeviceProtection    0\n",
              "TechSupport         0\n",
              "StreamingTV         0\n",
              "StreamingMovies     0\n",
              "Contract            0\n",
              "PaperlessBilling    0\n",
              "PaymentMethod       0\n",
              "MonthlyCharges      0\n",
              "TotalCharges        0\n",
              "Churn               0\n",
              "dtype: int64"
            ]
          },
          "metadata": {
            "tags": []
          },
          "execution_count": 550
        }
      ]
    },
    {
      "metadata": {
        "id": "zdqYYQqlD099",
        "colab_type": "text"
      },
      "cell_type": "markdown",
      "source": [
        "<h3>Looks like the dataset has no na values.. <h3>"
      ]
    },
    {
      "metadata": {
        "id": "uXgakhanD09-",
        "colab_type": "code",
        "colab": {},
        "outputId": "da0704a7-8c35-4cfd-a3c6-5b042bfb3090"
      },
      "cell_type": "code",
      "source": [
        "df[df.Churn=='Yes'].shape[0]/df[df.Churn=='No'].shape[0] #Not too severely imbalanced"
      ],
      "execution_count": 0,
      "outputs": [
        {
          "output_type": "execute_result",
          "data": {
            "text/plain": [
              "0.36122922303826827"
            ]
          },
          "metadata": {
            "tags": []
          },
          "execution_count": 551
        }
      ]
    },
    {
      "metadata": {
        "id": "PVuQJBiBD0-C",
        "colab_type": "code",
        "colab": {},
        "outputId": "4dd174c5-c49d-4339-8823-ceacd2c77830"
      },
      "cell_type": "code",
      "source": [
        "df.describe()"
      ],
      "execution_count": 0,
      "outputs": [
        {
          "output_type": "execute_result",
          "data": {
            "text/html": [
              "<div>\n",
              "<style scoped>\n",
              "    .dataframe tbody tr th:only-of-type {\n",
              "        vertical-align: middle;\n",
              "    }\n",
              "\n",
              "    .dataframe tbody tr th {\n",
              "        vertical-align: top;\n",
              "    }\n",
              "\n",
              "    .dataframe thead th {\n",
              "        text-align: right;\n",
              "    }\n",
              "</style>\n",
              "<table border=\"1\" class=\"dataframe\">\n",
              "  <thead>\n",
              "    <tr style=\"text-align: right;\">\n",
              "      <th></th>\n",
              "      <th>SeniorCitizen</th>\n",
              "      <th>tenure</th>\n",
              "      <th>MonthlyCharges</th>\n",
              "    </tr>\n",
              "  </thead>\n",
              "  <tbody>\n",
              "    <tr>\n",
              "      <th>count</th>\n",
              "      <td>7043.000000</td>\n",
              "      <td>7043.000000</td>\n",
              "      <td>7043.000000</td>\n",
              "    </tr>\n",
              "    <tr>\n",
              "      <th>mean</th>\n",
              "      <td>0.162147</td>\n",
              "      <td>32.371149</td>\n",
              "      <td>64.761692</td>\n",
              "    </tr>\n",
              "    <tr>\n",
              "      <th>std</th>\n",
              "      <td>0.368612</td>\n",
              "      <td>24.559481</td>\n",
              "      <td>30.090047</td>\n",
              "    </tr>\n",
              "    <tr>\n",
              "      <th>min</th>\n",
              "      <td>0.000000</td>\n",
              "      <td>0.000000</td>\n",
              "      <td>18.250000</td>\n",
              "    </tr>\n",
              "    <tr>\n",
              "      <th>25%</th>\n",
              "      <td>0.000000</td>\n",
              "      <td>9.000000</td>\n",
              "      <td>35.500000</td>\n",
              "    </tr>\n",
              "    <tr>\n",
              "      <th>50%</th>\n",
              "      <td>0.000000</td>\n",
              "      <td>29.000000</td>\n",
              "      <td>70.350000</td>\n",
              "    </tr>\n",
              "    <tr>\n",
              "      <th>75%</th>\n",
              "      <td>0.000000</td>\n",
              "      <td>55.000000</td>\n",
              "      <td>89.850000</td>\n",
              "    </tr>\n",
              "    <tr>\n",
              "      <th>max</th>\n",
              "      <td>1.000000</td>\n",
              "      <td>72.000000</td>\n",
              "      <td>118.750000</td>\n",
              "    </tr>\n",
              "  </tbody>\n",
              "</table>\n",
              "</div>"
            ],
            "text/plain": [
              "       SeniorCitizen       tenure  MonthlyCharges\n",
              "count    7043.000000  7043.000000     7043.000000\n",
              "mean        0.162147    32.371149       64.761692\n",
              "std         0.368612    24.559481       30.090047\n",
              "min         0.000000     0.000000       18.250000\n",
              "25%         0.000000     9.000000       35.500000\n",
              "50%         0.000000    29.000000       70.350000\n",
              "75%         0.000000    55.000000       89.850000\n",
              "max         1.000000    72.000000      118.750000"
            ]
          },
          "metadata": {
            "tags": []
          },
          "execution_count": 552
        }
      ]
    },
    {
      "metadata": {
        "id": "m2XJ9JSID0-H",
        "colab_type": "code",
        "colab": {},
        "outputId": "55d816db-1da7-41c0-fcdb-e951b300c4ee"
      },
      "cell_type": "code",
      "source": [
        "#TotalCharges is not present above, Let's see dtype of TotalCharges column\n",
        "np.dtype(df.TotalCharges)"
      ],
      "execution_count": 0,
      "outputs": [
        {
          "output_type": "execute_result",
          "data": {
            "text/plain": [
              "dtype('O')"
            ]
          },
          "metadata": {
            "tags": []
          },
          "execution_count": 553
        }
      ]
    },
    {
      "metadata": {
        "id": "9UDl4zExD0-M",
        "colab_type": "code",
        "colab": {},
        "outputId": "e918000e-0194-4d3f-f9d8-bc1cd0b4d5da"
      },
      "cell_type": "code",
      "source": [
        "#Let's convert it to a numeric type\n",
        "df.TotalCharges=pd.to_numeric(df.TotalCharges)"
      ],
      "execution_count": 0,
      "outputs": [
        {
          "output_type": "error",
          "ename": "ValueError",
          "evalue": "Unable to parse string \" \" at position 488",
          "traceback": [
            "\u001b[1;31m---------------------------------------------------------------------------\u001b[0m",
            "\u001b[1;31mValueError\u001b[0m                                Traceback (most recent call last)",
            "\u001b[1;32mpandas/_libs/src\\inference.pyx\u001b[0m in \u001b[0;36mpandas._libs.lib.maybe_convert_numeric\u001b[1;34m()\u001b[0m\n",
            "\u001b[1;31mValueError\u001b[0m: Unable to parse string \" \"",
            "\nDuring handling of the above exception, another exception occurred:\n",
            "\u001b[1;31mValueError\u001b[0m                                Traceback (most recent call last)",
            "\u001b[1;32m<ipython-input-554-a0d68f949004>\u001b[0m in \u001b[0;36m<module>\u001b[1;34m()\u001b[0m\n\u001b[0;32m      1\u001b[0m \u001b[1;31m#Let's convert it to a numeric type\u001b[0m\u001b[1;33m\u001b[0m\u001b[1;33m\u001b[0m\u001b[0m\n\u001b[1;32m----> 2\u001b[1;33m \u001b[0mdf\u001b[0m\u001b[1;33m.\u001b[0m\u001b[0mTotalCharges\u001b[0m\u001b[1;33m=\u001b[0m\u001b[0mpd\u001b[0m\u001b[1;33m.\u001b[0m\u001b[0mto_numeric\u001b[0m\u001b[1;33m(\u001b[0m\u001b[0mdf\u001b[0m\u001b[1;33m.\u001b[0m\u001b[0mTotalCharges\u001b[0m\u001b[1;33m)\u001b[0m\u001b[1;33m\u001b[0m\u001b[0m\n\u001b[0m",
            "\u001b[1;32m~\\Anaconda3\\lib\\site-packages\\pandas\\core\\tools\\numeric.py\u001b[0m in \u001b[0;36mto_numeric\u001b[1;34m(arg, errors, downcast)\u001b[0m\n\u001b[0;32m    131\u001b[0m             \u001b[0mcoerce_numeric\u001b[0m \u001b[1;33m=\u001b[0m \u001b[1;32mFalse\u001b[0m \u001b[1;32mif\u001b[0m \u001b[0merrors\u001b[0m \u001b[1;32min\u001b[0m \u001b[1;33m(\u001b[0m\u001b[1;34m'ignore'\u001b[0m\u001b[1;33m,\u001b[0m \u001b[1;34m'raise'\u001b[0m\u001b[1;33m)\u001b[0m \u001b[1;32melse\u001b[0m \u001b[1;32mTrue\u001b[0m\u001b[1;33m\u001b[0m\u001b[0m\n\u001b[0;32m    132\u001b[0m             values = lib.maybe_convert_numeric(values, set(),\n\u001b[1;32m--> 133\u001b[1;33m                                                coerce_numeric=coerce_numeric)\n\u001b[0m\u001b[0;32m    134\u001b[0m \u001b[1;33m\u001b[0m\u001b[0m\n\u001b[0;32m    135\u001b[0m     \u001b[1;32mexcept\u001b[0m \u001b[0mException\u001b[0m\u001b[1;33m:\u001b[0m\u001b[1;33m\u001b[0m\u001b[0m\n",
            "\u001b[1;32mpandas/_libs/src\\inference.pyx\u001b[0m in \u001b[0;36mpandas._libs.lib.maybe_convert_numeric\u001b[1;34m()\u001b[0m\n",
            "\u001b[1;31mValueError\u001b[0m: Unable to parse string \" \" at position 488"
          ]
        }
      ]
    },
    {
      "metadata": {
        "id": "ywXXuvhID0-Q",
        "colab_type": "code",
        "colab": {},
        "outputId": "36ba607e-a7a1-4f3c-be93-ad4d4125cc09"
      },
      "cell_type": "code",
      "source": [
        "#By looking at the above error, we can understand the reason behind the dtype('o')\n",
        "\n",
        "len(df[df.TotalCharges==' ']) #We have 11 records with Total Charges value -> ' ' and all these rows have Churn value 'NO', let's remove these rows from our analysis (Having information on Churned customers is more important than info on unchurned records)  \n",
        "df=df[df.TotalCharges!=' ']\n",
        "\n",
        "df.TotalCharges=pd.to_numeric(df.TotalCharges)\n",
        "np.dtype(df.TotalCharges)\n"
      ],
      "execution_count": 0,
      "outputs": [
        {
          "output_type": "execute_result",
          "data": {
            "text/plain": [
              "dtype('float64')"
            ]
          },
          "metadata": {
            "tags": []
          },
          "execution_count": 555
        }
      ]
    },
    {
      "metadata": {
        "id": "l7FW7HNxD0-V",
        "colab_type": "code",
        "colab": {},
        "outputId": "96de5ca1-ad42-40fc-eeb7-b1f4be490a5c"
      },
      "cell_type": "code",
      "source": [
        "df.describe()"
      ],
      "execution_count": 0,
      "outputs": [
        {
          "output_type": "execute_result",
          "data": {
            "text/html": [
              "<div>\n",
              "<style scoped>\n",
              "    .dataframe tbody tr th:only-of-type {\n",
              "        vertical-align: middle;\n",
              "    }\n",
              "\n",
              "    .dataframe tbody tr th {\n",
              "        vertical-align: top;\n",
              "    }\n",
              "\n",
              "    .dataframe thead th {\n",
              "        text-align: right;\n",
              "    }\n",
              "</style>\n",
              "<table border=\"1\" class=\"dataframe\">\n",
              "  <thead>\n",
              "    <tr style=\"text-align: right;\">\n",
              "      <th></th>\n",
              "      <th>SeniorCitizen</th>\n",
              "      <th>tenure</th>\n",
              "      <th>MonthlyCharges</th>\n",
              "      <th>TotalCharges</th>\n",
              "    </tr>\n",
              "  </thead>\n",
              "  <tbody>\n",
              "    <tr>\n",
              "      <th>count</th>\n",
              "      <td>7032.000000</td>\n",
              "      <td>7032.000000</td>\n",
              "      <td>7032.000000</td>\n",
              "      <td>7032.000000</td>\n",
              "    </tr>\n",
              "    <tr>\n",
              "      <th>mean</th>\n",
              "      <td>0.162400</td>\n",
              "      <td>32.421786</td>\n",
              "      <td>64.798208</td>\n",
              "      <td>2283.300441</td>\n",
              "    </tr>\n",
              "    <tr>\n",
              "      <th>std</th>\n",
              "      <td>0.368844</td>\n",
              "      <td>24.545260</td>\n",
              "      <td>30.085974</td>\n",
              "      <td>2266.771362</td>\n",
              "    </tr>\n",
              "    <tr>\n",
              "      <th>min</th>\n",
              "      <td>0.000000</td>\n",
              "      <td>1.000000</td>\n",
              "      <td>18.250000</td>\n",
              "      <td>18.800000</td>\n",
              "    </tr>\n",
              "    <tr>\n",
              "      <th>25%</th>\n",
              "      <td>0.000000</td>\n",
              "      <td>9.000000</td>\n",
              "      <td>35.587500</td>\n",
              "      <td>401.450000</td>\n",
              "    </tr>\n",
              "    <tr>\n",
              "      <th>50%</th>\n",
              "      <td>0.000000</td>\n",
              "      <td>29.000000</td>\n",
              "      <td>70.350000</td>\n",
              "      <td>1397.475000</td>\n",
              "    </tr>\n",
              "    <tr>\n",
              "      <th>75%</th>\n",
              "      <td>0.000000</td>\n",
              "      <td>55.000000</td>\n",
              "      <td>89.862500</td>\n",
              "      <td>3794.737500</td>\n",
              "    </tr>\n",
              "    <tr>\n",
              "      <th>max</th>\n",
              "      <td>1.000000</td>\n",
              "      <td>72.000000</td>\n",
              "      <td>118.750000</td>\n",
              "      <td>8684.800000</td>\n",
              "    </tr>\n",
              "  </tbody>\n",
              "</table>\n",
              "</div>"
            ],
            "text/plain": [
              "       SeniorCitizen       tenure  MonthlyCharges  TotalCharges\n",
              "count    7032.000000  7032.000000     7032.000000   7032.000000\n",
              "mean        0.162400    32.421786       64.798208   2283.300441\n",
              "std         0.368844    24.545260       30.085974   2266.771362\n",
              "min         0.000000     1.000000       18.250000     18.800000\n",
              "25%         0.000000     9.000000       35.587500    401.450000\n",
              "50%         0.000000    29.000000       70.350000   1397.475000\n",
              "75%         0.000000    55.000000       89.862500   3794.737500\n",
              "max         1.000000    72.000000      118.750000   8684.800000"
            ]
          },
          "metadata": {
            "tags": []
          },
          "execution_count": 556
        }
      ]
    },
    {
      "metadata": {
        "id": "yExjFBP3D0-b",
        "colab_type": "code",
        "colab": {},
        "outputId": "b42eee7b-2961-44c6-9288-7adceba9f145"
      },
      "cell_type": "code",
      "source": [
        "#Ideally SeniorCitizen column should be a factor, so let's convert 1,0 values to Yes,No and later we can label encode all factor columns\n",
        "\n",
        "df.SeniorCitizen=df.SeniorCitizen.apply(lambda x: 'Yes' if x==1 else 'No')\n",
        "df.SeniorCitizen.value_counts()"
      ],
      "execution_count": 0,
      "outputs": [
        {
          "output_type": "execute_result",
          "data": {
            "text/plain": [
              "No     5890\n",
              "Yes    1142\n",
              "Name: SeniorCitizen, dtype: int64"
            ]
          },
          "metadata": {
            "tags": []
          },
          "execution_count": 557
        }
      ]
    },
    {
      "metadata": {
        "id": "_9N-JYeFD0-g",
        "colab_type": "code",
        "colab": {},
        "outputId": "232f83a3-1a92-49a3-85ee-6520c6ce9c8e"
      },
      "cell_type": "code",
      "source": [
        "# df.MultipleLines.value_counts()\n",
        "# df.DeviceProtection.value_counts()\n",
        "# df.OnlineBackup.value_counts()\n",
        "# df.OnlineSecurity.value_counts()\n",
        "# df.StreamingMovies.value_counts()\n",
        "# df.StreamingTV.value_counts()\n",
        "# df.TechSupport.value_counts()\n"
      ],
      "execution_count": 0,
      "outputs": [
        {
          "output_type": "execute_result",
          "data": {
            "text/plain": [
              "No     4607\n",
              "Yes    2425\n",
              "Name: OnlineBackup, dtype: int64"
            ]
          },
          "metadata": {
            "tags": []
          },
          "execution_count": 89
        }
      ]
    },
    {
      "metadata": {
        "id": "I9OQSuYFD0-n",
        "colab_type": "code",
        "colab": {}
      },
      "cell_type": "code",
      "source": [
        "cat_cols_for_wrangling=['MultipleLines','DeviceProtection','OnlineBackup','OnlineSecurity','StreamingMovies','StreamingTV','TechSupport','InternetService']"
      ],
      "execution_count": 0,
      "outputs": []
    },
    {
      "metadata": {
        "id": "DnPtnNbBD0-v",
        "colab_type": "code",
        "colab": {}
      },
      "cell_type": "code",
      "source": [
        "#Some Data Wrangling.. We will Convert values like 'No Phone Service', 'No Internet Service' to 'No'. In other words, we're creating binary columns (Yes or No)\n",
        "\n",
        "for col in cat_cols_for_wrangling:\n",
        "    df[col]=df[col].apply(lambda x: 'No' if 'No' in x else 'Yes')"
      ],
      "execution_count": 0,
      "outputs": []
    },
    {
      "metadata": {
        "id": "MZmbWT30D0-y",
        "colab_type": "code",
        "colab": {},
        "outputId": "41d9ca77-4422-46cf-e377-00910bb2d550"
      },
      "cell_type": "code",
      "source": [
        "df.columns"
      ],
      "execution_count": 0,
      "outputs": [
        {
          "output_type": "execute_result",
          "data": {
            "text/plain": [
              "Index(['customerID', 'gender', 'SeniorCitizen', 'Partner', 'Dependents',\n",
              "       'tenure', 'PhoneService', 'MultipleLines', 'InternetService',\n",
              "       'OnlineSecurity', 'OnlineBackup', 'DeviceProtection', 'TechSupport',\n",
              "       'StreamingTV', 'StreamingMovies', 'Contract', 'PaperlessBilling',\n",
              "       'PaymentMethod', 'MonthlyCharges', 'TotalCharges', 'Churn'],\n",
              "      dtype='object')"
            ]
          },
          "metadata": {
            "tags": []
          },
          "execution_count": 560
        }
      ]
    },
    {
      "metadata": {
        "id": "wWUO8obDD0-1",
        "colab_type": "code",
        "colab": {}
      },
      "cell_type": "code",
      "source": [
        "cols=df.columns\n",
        "cols=cols.drop(['customerID','MonthlyCharges','TotalCharges'])\n",
        "all_cat_cols=list(cols) #All the categorical features that are required for analysis, we'll remove customerID since it's just an ID column with no significance for the analysis"
      ],
      "execution_count": 0,
      "outputs": []
    },
    {
      "metadata": {
        "id": "saFMaqSdD0-4",
        "colab_type": "code",
        "colab": {},
        "outputId": "09fade84-9e01-4591-f698-5b48740a26c6"
      },
      "cell_type": "code",
      "source": [
        "df.groupby(['Contract','Churn']).size().unstack().plot(kind='bar',stacked=True); #Clearly, users with Month-to-Month contract are more likely to churn "
      ],
      "execution_count": 0,
      "outputs": [
        {
          "output_type": "display_data",
          "data": {
            "image/png": "[encoded data removed]",
            "text/plain": [
              "<Figure size 432x288 with 1 Axes>"
            ]
          },
          "metadata": {
            "tags": [],
            "needs_background": "light"
          }
        }
      ]
    },
    {
      "metadata": {
        "id": "TbzlVd3JD0-8",
        "colab_type": "code",
        "colab": {},
        "outputId": "3c48eb96-4330-49f6-9ea8-a28dff520795"
      },
      "cell_type": "code",
      "source": [
        "df.groupby(['PaperlessBilling','Churn']).size().unstack().plot(kind='bar',stacked=True);"
      ],
      "execution_count": 0,
      "outputs": [
        {
          "output_type": "display_data",
          "data": {
            "image/png": "[encoded data removed]",
            "text/plain": [
              "<Figure size 432x288 with 1 Axes>"
            ]
          },
          "metadata": {
            "tags": [],
            "needs_background": "light"
          }
        }
      ]
    },
    {
      "metadata": {
        "id": "ZpTS-NWGD0_A",
        "colab_type": "code",
        "colab": {},
        "outputId": "488dca40-9c26-4d70-eb95-36cf6f5a3bba"
      },
      "cell_type": "code",
      "source": [
        "#Now, let's look at the numerical data. Creating correlation heatmap\n",
        "\n",
        "sns.heatmap(df.corr(),annot=True);\n",
        "\n",
        "#Tenure and TotalCharges, Monthly and TotalCharges are corelated and it makes sense,as totalcharges = tenure*MonthlyCharges"
      ],
      "execution_count": 0,
      "outputs": [
        {
          "output_type": "display_data",
          "data": {
            "image/png": "[encoded data removed]",
            "text/plain": [
              "<Figure size 432x288 with 2 Axes>"
            ]
          },
          "metadata": {
            "tags": [],
            "needs_background": "light"
          }
        }
      ]
    },
    {
      "metadata": {
        "id": "oyygnF4GD0_F",
        "colab_type": "code",
        "colab": {}
      },
      "cell_type": "code",
      "source": [
        "#It makes more sense to categorize customers wrt tenure, so let's convert tenure column to tenure range/buckets\n",
        "\n",
        "def convert_to_buckets(tenure):\n",
        "    \n",
        "    if tenure <=24:\n",
        "        return '0 - 24 months'\n",
        "    elif tenure <=36:\n",
        "        return '24 - 36 months'\n",
        "    elif tenure <=48:\n",
        "        return '36 - 48 months'\n",
        "    elif tenure <=60:\n",
        "        return '48 - 60 months'\n",
        "    else:\n",
        "        return '> 60 months'"
      ],
      "execution_count": 0,
      "outputs": []
    },
    {
      "metadata": {
        "id": "0KmyHFmSD0_K",
        "colab_type": "code",
        "colab": {},
        "outputId": "dc3c80df-c8d7-4528-8b14-e8fb50b32bf9"
      },
      "cell_type": "code",
      "source": [
        "df['tenure']=df['tenure'].map(convert_to_buckets)\n",
        "df['tenure'].value_counts()"
      ],
      "execution_count": 0,
      "outputs": [
        {
          "output_type": "execute_result",
          "data": {
            "text/plain": [
              "0 - 24 months     3199\n",
              "> 60 months       1407\n",
              "48 - 60 months     832\n",
              "24 - 36 months     832\n",
              "36 - 48 months     762\n",
              "Name: tenure, dtype: int64"
            ]
          },
          "metadata": {
            "tags": []
          },
          "execution_count": 566
        }
      ]
    },
    {
      "metadata": {
        "id": "sK_Sop66D0_O",
        "colab_type": "code",
        "colab": {},
        "outputId": "bcbdb2c1-ee5b-410d-8c8c-3f63c4485ac6"
      },
      "cell_type": "code",
      "source": [
        "df.groupby(['tenure','Churn']).size().unstack().plot(kind='bar',stacked=True); #customers with 0-24 months tenure are more likely to churn.. \n",
        "#From the plot, it is evident that 'tenure' is an important feature as well./"
      ],
      "execution_count": 0,
      "outputs": [
        {
          "output_type": "display_data",
          "data": {
            "image/png": "[encoded data removed]",
            "text/plain": [
              "<Figure size 432x288 with 1 Axes>"
            ]
          },
          "metadata": {
            "tags": [],
            "needs_background": "light"
          }
        }
      ]
    },
    {
      "metadata": {
        "id": "6BSY5q8JD0_S",
        "colab_type": "code",
        "colab": {},
        "outputId": "fd350de8-86ce-47b8-f89d-34fe04821b53"
      },
      "cell_type": "code",
      "source": [
        "sns.heatmap(df[['TotalCharges','MonthlyCharges']].corr(),annot=True,fmt='.3');\n",
        "#Since, monthly and Total Charges are corelated.. We'd need to remove one of them, let's remove TotalCharges.."
      ],
      "execution_count": 0,
      "outputs": [
        {
          "output_type": "display_data",
          "data": {
            "image/png": "[encoded data removed]",
            "text/plain": [
              "<Figure size 432x288 with 2 Axes>"
            ]
          },
          "metadata": {
            "tags": [],
            "needs_background": "light"
          }
        }
      ]
    },
    {
      "metadata": {
        "id": "lqh6H8cVD0_X",
        "colab_type": "code",
        "colab": {},
        "outputId": "7d1d36db-7585-4a0e-fa54-2442980c1e05"
      },
      "cell_type": "code",
      "source": [
        "f=plt.figure(figsize=(10,10));\n",
        "for i in range(7):\n",
        "    f.add_subplot(2,4,i+1)\n",
        "    df[cat_cols[i]].value_counts(normalize=True).plot(kind='bar',title=cat_cols[i])\n",
        "plt.subplots_adjust(left=3,right=5,top=3,bottom=2,wspace = 0.4,hspace = 0.4)"
      ],
      "execution_count": 0,
      "outputs": [
        {
          "output_type": "display_data",
          "data": {
            "image/png": "[encoded data removed]",
            "text/plain": [
              "<Figure size 720x720 with 7 Axes>"
            ]
          },
          "metadata": {
            "tags": [],
            "needs_background": "light"
          }
        }
      ]
    },
    {
      "metadata": {
        "id": "Aj2P1HioD0_a",
        "colab_type": "code",
        "colab": {},
        "outputId": "6661576d-adb9-40dd-ba97-66219a346bdb"
      },
      "cell_type": "code",
      "source": [
        "all_cat_cols #All Categorical column names"
      ],
      "execution_count": 0,
      "outputs": [
        {
          "output_type": "execute_result",
          "data": {
            "text/plain": [
              "['gender',\n",
              " 'SeniorCitizen',\n",
              " 'Partner',\n",
              " 'Dependents',\n",
              " 'tenure',\n",
              " 'PhoneService',\n",
              " 'MultipleLines',\n",
              " 'InternetService',\n",
              " 'OnlineSecurity',\n",
              " 'OnlineBackup',\n",
              " 'DeviceProtection',\n",
              " 'TechSupport',\n",
              " 'StreamingTV',\n",
              " 'StreamingMovies',\n",
              " 'Contract',\n",
              " 'PaperlessBilling',\n",
              " 'PaymentMethod',\n",
              " 'Churn']"
            ]
          },
          "metadata": {
            "tags": []
          },
          "execution_count": 471
        }
      ]
    },
    {
      "metadata": {
        "id": "0BJBlI7UD0_d",
        "colab_type": "code",
        "colab": {},
        "outputId": "65cc285c-43ba-46ea-8470-38cf8f749a54"
      },
      "cell_type": "code",
      "source": [
        "from sklearn.preprocessing import LabelEncoder\n",
        "labelencoder = LabelEncoder()\n",
        "\n",
        "for col in all_cat_cols:\n",
        "    df[col] = labelencoder.fit_transform(df[col])\n",
        "    \n",
        "\n",
        "df[all_cat_cols].head()"
      ],
      "execution_count": 0,
      "outputs": [
        {
          "output_type": "execute_result",
          "data": {
            "text/html": [
              "<div>\n",
              "<style scoped>\n",
              "    .dataframe tbody tr th:only-of-type {\n",
              "        vertical-align: middle;\n",
              "    }\n",
              "\n",
              "    .dataframe tbody tr th {\n",
              "        vertical-align: top;\n",
              "    }\n",
              "\n",
              "    .dataframe thead th {\n",
              "        text-align: right;\n",
              "    }\n",
              "</style>\n",
              "<table border=\"1\" class=\"dataframe\">\n",
              "  <thead>\n",
              "    <tr style=\"text-align: right;\">\n",
              "      <th></th>\n",
              "      <th>gender</th>\n",
              "      <th>SeniorCitizen</th>\n",
              "      <th>Partner</th>\n",
              "      <th>Dependents</th>\n",
              "      <th>tenure</th>\n",
              "      <th>PhoneService</th>\n",
              "      <th>MultipleLines</th>\n",
              "      <th>InternetService</th>\n",
              "      <th>OnlineSecurity</th>\n",
              "      <th>OnlineBackup</th>\n",
              "      <th>DeviceProtection</th>\n",
              "      <th>TechSupport</th>\n",
              "      <th>StreamingTV</th>\n",
              "      <th>StreamingMovies</th>\n",
              "      <th>Contract</th>\n",
              "      <th>PaperlessBilling</th>\n",
              "      <th>PaymentMethod</th>\n",
              "      <th>Churn</th>\n",
              "    </tr>\n",
              "  </thead>\n",
              "  <tbody>\n",
              "    <tr>\n",
              "      <th>0</th>\n",
              "      <td>0</td>\n",
              "      <td>0</td>\n",
              "      <td>1</td>\n",
              "      <td>0</td>\n",
              "      <td>0</td>\n",
              "      <td>0</td>\n",
              "      <td>0</td>\n",
              "      <td>1</td>\n",
              "      <td>0</td>\n",
              "      <td>1</td>\n",
              "      <td>0</td>\n",
              "      <td>0</td>\n",
              "      <td>0</td>\n",
              "      <td>0</td>\n",
              "      <td>0</td>\n",
              "      <td>1</td>\n",
              "      <td>2</td>\n",
              "      <td>0</td>\n",
              "    </tr>\n",
              "    <tr>\n",
              "      <th>1</th>\n",
              "      <td>1</td>\n",
              "      <td>0</td>\n",
              "      <td>0</td>\n",
              "      <td>0</td>\n",
              "      <td>1</td>\n",
              "      <td>1</td>\n",
              "      <td>0</td>\n",
              "      <td>1</td>\n",
              "      <td>1</td>\n",
              "      <td>0</td>\n",
              "      <td>1</td>\n",
              "      <td>0</td>\n",
              "      <td>0</td>\n",
              "      <td>0</td>\n",
              "      <td>1</td>\n",
              "      <td>0</td>\n",
              "      <td>3</td>\n",
              "      <td>0</td>\n",
              "    </tr>\n",
              "    <tr>\n",
              "      <th>2</th>\n",
              "      <td>1</td>\n",
              "      <td>0</td>\n",
              "      <td>0</td>\n",
              "      <td>0</td>\n",
              "      <td>0</td>\n",
              "      <td>1</td>\n",
              "      <td>0</td>\n",
              "      <td>1</td>\n",
              "      <td>1</td>\n",
              "      <td>1</td>\n",
              "      <td>0</td>\n",
              "      <td>0</td>\n",
              "      <td>0</td>\n",
              "      <td>0</td>\n",
              "      <td>0</td>\n",
              "      <td>1</td>\n",
              "      <td>3</td>\n",
              "      <td>1</td>\n",
              "    </tr>\n",
              "    <tr>\n",
              "      <th>3</th>\n",
              "      <td>1</td>\n",
              "      <td>0</td>\n",
              "      <td>0</td>\n",
              "      <td>0</td>\n",
              "      <td>2</td>\n",
              "      <td>0</td>\n",
              "      <td>0</td>\n",
              "      <td>1</td>\n",
              "      <td>1</td>\n",
              "      <td>0</td>\n",
              "      <td>1</td>\n",
              "      <td>1</td>\n",
              "      <td>0</td>\n",
              "      <td>0</td>\n",
              "      <td>1</td>\n",
              "      <td>0</td>\n",
              "      <td>0</td>\n",
              "      <td>0</td>\n",
              "    </tr>\n",
              "    <tr>\n",
              "      <th>4</th>\n",
              "      <td>0</td>\n",
              "      <td>0</td>\n",
              "      <td>0</td>\n",
              "      <td>0</td>\n",
              "      <td>0</td>\n",
              "      <td>1</td>\n",
              "      <td>0</td>\n",
              "      <td>1</td>\n",
              "      <td>0</td>\n",
              "      <td>0</td>\n",
              "      <td>0</td>\n",
              "      <td>0</td>\n",
              "      <td>0</td>\n",
              "      <td>0</td>\n",
              "      <td>0</td>\n",
              "      <td>1</td>\n",
              "      <td>2</td>\n",
              "      <td>1</td>\n",
              "    </tr>\n",
              "  </tbody>\n",
              "</table>\n",
              "</div>"
            ],
            "text/plain": [
              "   gender  SeniorCitizen  Partner  Dependents  tenure  PhoneService  \\\n",
              "0       0              0        1           0       0             0   \n",
              "1       1              0        0           0       1             1   \n",
              "2       1              0        0           0       0             1   \n",
              "3       1              0        0           0       2             0   \n",
              "4       0              0        0           0       0             1   \n",
              "\n",
              "   MultipleLines  InternetService  OnlineSecurity  OnlineBackup  \\\n",
              "0              0                1               0             1   \n",
              "1              0                1               1             0   \n",
              "2              0                1               1             1   \n",
              "3              0                1               1             0   \n",
              "4              0                1               0             0   \n",
              "\n",
              "   DeviceProtection  TechSupport  StreamingTV  StreamingMovies  Contract  \\\n",
              "0                 0            0            0                0         0   \n",
              "1                 1            0            0                0         1   \n",
              "2                 0            0            0                0         0   \n",
              "3                 1            1            0                0         1   \n",
              "4                 0            0            0                0         0   \n",
              "\n",
              "   PaperlessBilling  PaymentMethod  Churn  \n",
              "0                 1              2      0  \n",
              "1                 0              3      0  \n",
              "2                 1              3      1  \n",
              "3                 0              0      0  \n",
              "4                 1              2      1  "
            ]
          },
          "metadata": {
            "tags": []
          },
          "execution_count": 639
        }
      ]
    },
    {
      "metadata": {
        "id": "8tykaUKbD0_g",
        "colab_type": "code",
        "colab": {}
      },
      "cell_type": "code",
      "source": [
        ""
      ],
      "execution_count": 0,
      "outputs": []
    },
    {
      "metadata": {
        "id": "vaQz_DLAD0_i",
        "colab_type": "text"
      },
      "cell_type": "markdown",
      "source": [
        "<h3>Train - Test Data split<h3>"
      ]
    },
    {
      "metadata": {
        "id": "erqUKR67D0_i",
        "colab_type": "code",
        "colab": {},
        "outputId": "66d172e2-7ed0-4c17-d700-4ca50c00704c"
      },
      "cell_type": "code",
      "source": [
        "#from sklearn.model_selection import train_test_split\n",
        "\n",
        "X_train=df.sample(frac=0.8,random_state=199)\n",
        "X_test=df.drop(X_train.index)\n",
        "len(X_train),len(X_test)"
      ],
      "execution_count": 0,
      "outputs": [
        {
          "output_type": "execute_result",
          "data": {
            "text/plain": [
              "(5626, 1406)"
            ]
          },
          "metadata": {
            "tags": []
          },
          "execution_count": 771
        }
      ]
    },
    {
      "metadata": {
        "id": "OaS9yY5CD0_l",
        "colab_type": "code",
        "colab": {}
      },
      "cell_type": "code",
      "source": [
        "Y_train=X_train['Churn']\n",
        "Y_test=X_test['Churn']"
      ],
      "execution_count": 0,
      "outputs": []
    },
    {
      "metadata": {
        "id": "OlJxnCQSD0_n",
        "colab_type": "code",
        "colab": {},
        "outputId": "42a05921-5291-4f04-c2f5-6f98f0ae0ee0"
      },
      "cell_type": "code",
      "source": [
        "#Monthly and TotalCharges are corelated, so we remove one of them, we're removing total charges\n",
        "\n",
        "X_train.drop(columns=['Churn','customerID','TotalCharges'],axis=1,inplace=True)\n",
        "X_test.drop(columns=['Churn','customerID','TotalCharges'],axis=1,inplace=True)\n",
        "\n",
        "X_train.columns"
      ],
      "execution_count": 0,
      "outputs": [
        {
          "output_type": "execute_result",
          "data": {
            "text/plain": [
              "Index(['gender', 'SeniorCitizen', 'Partner', 'Dependents', 'tenure',\n",
              "       'PhoneService', 'MultipleLines', 'InternetService', 'OnlineSecurity',\n",
              "       'OnlineBackup', 'DeviceProtection', 'TechSupport', 'StreamingTV',\n",
              "       'StreamingMovies', 'Contract', 'PaperlessBilling', 'PaymentMethod',\n",
              "       'MonthlyCharges'],\n",
              "      dtype='object')"
            ]
          },
          "metadata": {
            "tags": []
          },
          "execution_count": 773
        }
      ]
    },
    {
      "metadata": {
        "id": "zboJ7_PiE-aS",
        "colab_type": "text"
      },
      "cell_type": "markdown",
      "source": [
        "Now, We're ready to go for model building, but before we do it.. Let's understand the metrics that matter for this specific problem.\n",
        "\n",
        "\n",
        "*  Our ultimate goal is to retain as many churning customers as we can. We don't care much if we predict a customer to be churning turns out not churning ie., our Model should have more True positives and less False Negatives. It doesn't matter if we have many False Positives because we care more about no. of false Negatives. The less the no. of False Negatives, the more we're sure about retention.. \n",
        "\n",
        "\n",
        "Just to be clear: In our scenario/perspective:\n",
        "\n",
        "* A False Positive is when we predict a customer to be churning turns out to be not Churning.\n",
        "* A False Negative is when we predict a customer to be not churning turns out  Churnign.\n",
        "\n",
        "It doesn't cost us much if we give an exciting offer (expensive for comapany) to a loyal customer who's not about to leave us. But it costs us a lot if we don't interact/give an offer to a customer who's about to leave us soon. (Because It's a standard rule that acquiring a customer costs more than retaining one.)\n",
        "\n",
        "\n",
        "\n",
        "---\n",
        "\n",
        "So, the metric we're looking for is  --> **RECALL**\n",
        "\n",
        "Recall=TP/TP+FN\n",
        "\n",
        "Recall gives us the measure of - What proportion of Churned Customers have we retained/Predicted. The less False Negatives we get, The more recall we have... Let's go ahead and build the model\n",
        "\n"
      ]
    },
    {
      "metadata": {
        "id": "0U3zhLyID0_r",
        "colab_type": "text"
      },
      "cell_type": "markdown",
      "source": [
        "<h2>Model Building<h2>\n",
        "<h3>Logistic Regression<h3>"
      ]
    },
    {
      "metadata": {
        "id": "-4c4po_VD0_t",
        "colab_type": "code",
        "colab": {}
      },
      "cell_type": "code",
      "source": [
        "from sklearn.linear_model import LogisticRegression\n",
        "from sklearn.metrics import accuracy_score,confusion_matrix,classification_report\n",
        "\n",
        "log_model=LogisticRegression(class_weight='balanced')#https://stackoverflow.com/questions/30972029/how-does-the-class-weight-parameter-in-scikit-learn-work\n",
        "log_model.fit(X_train,Y_train)\n",
        "\n",
        "Y_pred=log_model.predict(X_test)"
      ],
      "execution_count": 0,
      "outputs": []
    },
    {
      "metadata": {
        "id": "I3TIaperD0_w",
        "colab_type": "code",
        "colab": {},
        "outputId": "fc47fbd0-4f43-44ff-ecd8-400ee75421f2"
      },
      "cell_type": "code",
      "source": [
        "accuracy_score(Y_pred,Y_test)"
      ],
      "execution_count": 0,
      "outputs": [
        {
          "output_type": "execute_result",
          "data": {
            "text/plain": [
              "0.7290184921763869"
            ]
          },
          "metadata": {
            "tags": []
          },
          "execution_count": 799
        }
      ]
    },
    {
      "metadata": {
        "id": "Hwi_ui_OD0_0",
        "colab_type": "code",
        "colab": {},
        "outputId": "829a35c1-b48a-46be-dd79-c9c4b1ed7bcc"
      },
      "cell_type": "code",
      "source": [
        "print(classification_report(Y_pred,Y_test))"
      ],
      "execution_count": 0,
      "outputs": [
        {
          "output_type": "stream",
          "text": [
            "             precision    recall  f1-score   support\n",
            "\n",
            "          0       0.71      0.90      0.79       803\n",
            "          1       0.79      0.50      0.61       603\n",
            "\n",
            "avg / total       0.74      0.73      0.72      1406\n",
            "\n"
          ],
          "name": "stdout"
        }
      ]
    },
    {
      "metadata": {
        "id": "eW_6-c09D0_4",
        "colab_type": "code",
        "colab": {},
        "outputId": "83e52a0b-d36f-451d-cddd-c00f69d25358"
      },
      "cell_type": "code",
      "source": [
        "sns.heatmap(confusion_matrix(Y_pred,Y_test),annot=True,fmt='1')\n",
        "plt.xlabel('Predicted Values')\n",
        "plt.ylabel('Actual Values')\n",
        "plt.title('Logistic Regression:'); #';' to exclude printing 'plt' object details "
      ],
      "execution_count": 0,
      "outputs": [
        {
          "output_type": "display_data",
          "data": {
            "image/png": "[encoded data removed]",
            "text/plain": [
              "<Figure size 432x288 with 2 Axes>"
            ]
          },
          "metadata": {
            "tags": [],
            "needs_background": "light"
          }
        }
      ]
    },
    {
      "metadata": {
        "collapsed": true,
        "id": "xVojgZgmD0_7",
        "colab_type": "code",
        "colab": {},
        "outputId": "d2f1e66c-7f79-4398-a730-dfe06484088c"
      },
      "cell_type": "code",
      "source": [
        "Y_Pred1={}\n",
        "\n",
        "for i in range(1,6):\n",
        "    \n",
        "    Y_pred1['0.'+str(15*i)]=pd.Series(Y_probs).apply(lambda x: 1 if x>0.15*i else 0)\n",
        "    print('Threshold at ','0.'+str(15*i),':\\n',classification_report(Y_pred1['0.'+str(15*i)],Y_test),'\\n')\n"
      ],
      "execution_count": 0,
      "outputs": [
        {
          "output_type": "stream",
          "text": [
            "Threshold at  0.15 :\n",
            "              precision    recall  f1-score   support\n",
            "\n",
            "          0       0.56      0.93      0.70       613\n",
            "          1       0.89      0.43      0.58       793\n",
            "\n",
            "avg / total       0.74      0.65      0.63      1406\n",
            " \n",
            "\n",
            "Threshold at  0.30 :\n",
            "              precision    recall  f1-score   support\n",
            "\n",
            "          0       0.74      0.89      0.81       852\n",
            "          1       0.76      0.53      0.62       554\n",
            "\n",
            "avg / total       0.75      0.75      0.74      1406\n",
            " \n",
            "\n",
            "Threshold at  0.45 :\n",
            "              precision    recall  f1-score   support\n",
            "\n",
            "          0       0.87      0.84      0.86      1059\n",
            "          1       0.56      0.62      0.59       347\n",
            "\n",
            "avg / total       0.79      0.79      0.79      1406\n",
            " \n",
            "\n",
            "Threshold at  0.60 :\n",
            "              precision    recall  f1-score   support\n",
            "\n",
            "          0       0.95      0.79      0.86      1220\n",
            "          1       0.35      0.72      0.47       186\n",
            "\n",
            "avg / total       0.87      0.78      0.81      1406\n",
            " \n",
            "\n",
            "Threshold at  0.75 :\n",
            "              precision    recall  f1-score   support\n",
            "\n",
            "          0       1.00      0.73      0.85      1391\n",
            "          1       0.04      0.93      0.07        15\n",
            "\n",
            "avg / total       0.99      0.73      0.84      1406\n",
            " \n",
            "\n"
          ],
          "name": "stdout"
        }
      ]
    },
    {
      "metadata": {
        "id": "uuVRbsbCD1AC",
        "colab_type": "text"
      },
      "cell_type": "markdown",
      "source": [
        "<h2>Random Forest Classifier<h2>"
      ]
    },
    {
      "metadata": {
        "id": "bjg5A_QJD1AD",
        "colab_type": "code",
        "colab": {}
      },
      "cell_type": "code",
      "source": [
        "from sklearn.ensemble import RandomForestClassifier\n",
        "\n",
        "rf_model=RandomForestClassifier()"
      ],
      "execution_count": 0,
      "outputs": []
    },
    {
      "metadata": {
        "id": "kUe4UUC7D1AF",
        "colab_type": "code",
        "colab": {},
        "outputId": "fd08f3de-5126-453f-a6a5-7ef350e985b3"
      },
      "cell_type": "code",
      "source": [
        "rf_model.fit(X_train,Y_train)"
      ],
      "execution_count": 0,
      "outputs": [
        {
          "output_type": "execute_result",
          "data": {
            "text/plain": [
              "RandomForestClassifier(bootstrap=True, class_weight=None, criterion='gini',\n",
              "            max_depth=None, max_features='auto', max_leaf_nodes=None,\n",
              "            min_impurity_decrease=0.0, min_impurity_split=None,\n",
              "            min_samples_leaf=1, min_samples_split=2,\n",
              "            min_weight_fraction_leaf=0.0, n_estimators=10, n_jobs=1,\n",
              "            oob_score=False, random_state=None, verbose=0,\n",
              "            warm_start=False)"
            ]
          },
          "metadata": {
            "tags": []
          },
          "execution_count": 775
        }
      ]
    },
    {
      "metadata": {
        "id": "En1LMG6CD1AN",
        "colab_type": "code",
        "colab": {}
      },
      "cell_type": "code",
      "source": [
        "Y_rf_Pred=rf_model.predict(X_test)"
      ],
      "execution_count": 0,
      "outputs": []
    },
    {
      "metadata": {
        "id": "ve_G-NjeD1AT",
        "colab_type": "code",
        "colab": {}
      },
      "cell_type": "code",
      "source": [
        "#list(zip(list(rf_model.predict_proba(X_test)[:,0]),Y_pred.tolist()))"
      ],
      "execution_count": 0,
      "outputs": []
    },
    {
      "metadata": {
        "id": "Qo70Wc3VD1AY",
        "colab_type": "code",
        "colab": {},
        "outputId": "48c9946d-053b-4777-ff70-6952b58d689f"
      },
      "cell_type": "code",
      "source": [
        "print(classification_report(Y_rf_Pred,Y_test))"
      ],
      "execution_count": 0,
      "outputs": [
        {
          "output_type": "stream",
          "text": [
            "             precision    recall  f1-score   support\n",
            "\n",
            "          0       0.90      0.80      0.84      1149\n",
            "          1       0.40      0.60      0.48       257\n",
            "\n",
            "avg / total       0.81      0.76      0.78      1406\n",
            "\n"
          ],
          "name": "stdout"
        }
      ]
    },
    {
      "metadata": {
        "id": "z21UF7DoD1Ag",
        "colab_type": "code",
        "colab": {},
        "outputId": "c40cdcb7-c902-4a38-c6a1-045a5008556c"
      },
      "cell_type": "code",
      "source": [
        "sns.heatmap(confusion_matrix(Y_rf_Pred,Y_test),annot=True,fmt='1')\n",
        "plt.title('Random Forest Classifier');"
      ],
      "execution_count": 0,
      "outputs": [
        {
          "output_type": "display_data",
          "data": {
            "image/png": "[encoded data removed]",
            "text/plain": [
              "<Figure size 432x288 with 2 Axes>"
            ]
          },
          "metadata": {
            "tags": [],
            "needs_background": "light"
          }
        }
      ]
    },
    {
      "metadata": {
        "id": "zVegiTqZD1Ao",
        "colab_type": "code",
        "colab": {}
      },
      "cell_type": "code",
      "source": [
        "probs=rf_model.predict_proba(X_test)\n",
        "Y_rf_probs=[prob[1] for prob in probs]"
      ],
      "execution_count": 0,
      "outputs": []
    },
    {
      "metadata": {
        "collapsed": true,
        "id": "9piYcY1AD1Au",
        "colab_type": "code",
        "colab": {},
        "outputId": "575dd7ec-63ae-472e-c843-0cea07a64f3f"
      },
      "cell_type": "code",
      "source": [
        "#https://stackoverflow.com/questions/49785904/how-to-set-threshold-to-scikit-learn-random-forest-model\n",
        "Y_Pred1={}\n",
        "\n",
        "for i in range(1,7):\n",
        "    \n",
        "    Y_pred1['0.'+str(15*i)]=(probs[:,1]>0.15*i).astype('int')\n",
        "    print('Threshold at ','0.'+str(15*i),':\\n',classification_report(Y_pred1['0.'+str(15*i)],Y_test),'\\n')\n",
        "\n",
        "len(Y_pred1)\n"
      ],
      "execution_count": 0,
      "outputs": [
        {
          "output_type": "stream",
          "text": [
            "Threshold at  0.15 :\n",
            "              precision    recall  f1-score   support\n",
            "\n",
            "          0       0.57      0.90      0.70       650\n",
            "          1       0.83      0.42      0.56       756\n",
            "\n",
            "avg / total       0.71      0.64      0.63      1406\n",
            " \n",
            "\n",
            "Threshold at  0.30 :\n",
            "              precision    recall  f1-score   support\n",
            "\n",
            "          0       0.79      0.83      0.81       975\n",
            "          1       0.57      0.51      0.54       431\n",
            "\n",
            "avg / total       0.73      0.73      0.73      1406\n",
            " \n",
            "\n",
            "Threshold at  0.45 :\n",
            "              precision    recall  f1-score   support\n",
            "\n",
            "          0       0.85      0.81      0.83      1071\n",
            "          1       0.48      0.56      0.52       335\n",
            "\n",
            "avg / total       0.77      0.75      0.76      1406\n",
            " \n",
            "\n",
            "Threshold at  0.60 :\n",
            "              precision    recall  f1-score   support\n",
            "\n",
            "          0       0.93      0.78      0.85      1214\n",
            "          1       0.32      0.65      0.43       192\n",
            "\n",
            "avg / total       0.85      0.77      0.79      1406\n",
            " \n",
            "\n",
            "Threshold at  0.75 :\n",
            "              precision    recall  f1-score   support\n",
            "\n",
            "          0       0.95      0.76      0.85      1278\n",
            "          1       0.21      0.64      0.32       128\n",
            "\n",
            "avg / total       0.89      0.75      0.80      1406\n",
            " \n",
            "\n",
            "Threshold at  0.90 :\n",
            "              precision    recall  f1-score   support\n",
            "\n",
            "          0       0.98      0.75      0.85      1324\n",
            "          1       0.15      0.71      0.25        82\n",
            "\n",
            "avg / total       0.93      0.75      0.81      1406\n",
            " \n",
            "\n"
          ],
          "name": "stdout"
        },
        {
          "output_type": "execute_result",
          "data": {
            "text/plain": [
              "1412"
            ]
          },
          "metadata": {
            "tags": []
          },
          "execution_count": 802
        }
      ]
    },
    {
      "metadata": {
        "id": "AOSNk0bUD1Ay",
        "colab_type": "code",
        "colab": {},
        "outputId": "f7605043-f22e-4f1f-a8b3-82d992537a29"
      },
      "cell_type": "code",
      "source": [
        "from sklearn.ensemble import GradientBoostingClassifier\n",
        "\n",
        "gb_clf=GradientBoostingClassifier()\n",
        "gb_clf.fit(X_train,Y_train)"
      ],
      "execution_count": 0,
      "outputs": [
        {
          "output_type": "execute_result",
          "data": {
            "text/plain": [
              "GradientBoostingClassifier(criterion='friedman_mse', init=None,\n",
              "              learning_rate=0.1, loss='deviance', max_depth=3,\n",
              "              max_features=None, max_leaf_nodes=None,\n",
              "              min_impurity_decrease=0.0, min_impurity_split=None,\n",
              "              min_samples_leaf=1, min_samples_split=2,\n",
              "              min_weight_fraction_leaf=0.0, n_estimators=100,\n",
              "              presort='auto', random_state=None, subsample=1.0, verbose=0,\n",
              "              warm_start=False)"
            ]
          },
          "metadata": {
            "tags": []
          },
          "execution_count": 804
        }
      ]
    },
    {
      "metadata": {
        "id": "g86NavpWD1A2",
        "colab_type": "code",
        "colab": {}
      },
      "cell_type": "code",
      "source": [
        "Y_pred=gb_clf.predict(X_test)"
      ],
      "execution_count": 0,
      "outputs": []
    },
    {
      "metadata": {
        "id": "lfmZ-3H7D1A6",
        "colab_type": "code",
        "colab": {},
        "outputId": "a7c758f6-5e35-4dd3-d167-67d2c735fa86"
      },
      "cell_type": "code",
      "source": [
        "print(classification_report(Y_pred,Y_test))"
      ],
      "execution_count": 0,
      "outputs": [
        {
          "output_type": "stream",
          "text": [
            "             precision    recall  f1-score   support\n",
            "\n",
            "          0       0.91      0.83      0.87      1122\n",
            "          1       0.50      0.68      0.57       284\n",
            "\n",
            "avg / total       0.83      0.80      0.81      1406\n",
            "\n"
          ],
          "name": "stdout"
        }
      ]
    },
    {
      "metadata": {
        "id": "tz-7yp8gBK97",
        "colab_type": "text"
      },
      "cell_type": "markdown",
      "source": [
        "GB Classifier has a very good recall relatively.. "
      ]
    },
    {
      "metadata": {
        "id": "ozd6Tko3D1A_",
        "colab_type": "code",
        "colab": {},
        "outputId": "eb249adb-cb80-44ed-c0f0-55ed2b6abfda"
      },
      "cell_type": "code",
      "source": [
        "sns.heatmap(confusion_matrix(Y_pred,Y_test),annot=True,fmt='1')"
      ],
      "execution_count": 0,
      "outputs": [
        {
          "output_type": "execute_result",
          "data": {
            "text/plain": [
              "<matplotlib.axes._subplots.AxesSubplot at 0x229190d9400>"
            ]
          },
          "metadata": {
            "tags": []
          },
          "execution_count": 807
        },
        {
          "output_type": "display_data",
          "data": {
            "image/png": "[encoded data removed]",
            "text/plain": [
              "<Figure size 432x288 with 2 Axes>"
            ]
          },
          "metadata": {
            "tags": [],
            "needs_background": "light"
          }
        }
      ]
    },
    {
      "metadata": {
        "scrolled": false,
        "id": "CstE9OoqD1BC",
        "colab_type": "code",
        "colab": {},
        "outputId": "dba34d2e-010a-4c75-e1cd-a007e2bebafd"
      },
      "cell_type": "code",
      "source": [
        "plt.figure(figsize=(10,10));\n",
        "plt.title('ROC Curves of all classifiers ')\n",
        "plt.xlabel('FPR (1-Specificity)')\n",
        "plt.ylabel('TPR (Sensitivity)')\n",
        "def model(clf,X_train,X_test,Y_train):\n",
        "    \n",
        "    clf.fit(X_train,Y_train)\n",
        "    Y_pred,Y_probs=clf.predict(X_test),clf.predict_proba(X_test)[:,1]\n",
        "    return  Y_pred,Y_probs\n",
        "\n",
        "clfs={'Logistic':LogisticRegression(),'Random_Forest':RandomForestClassifier(),'Gradient Boosting':GradientBoostingClassifier()}\n",
        "    \n",
        "for clf_name in clfs.keys():\n",
        "    \n",
        "    model =clfs[clf_name]  # select the model\n",
        "    model.fit(X_train, Y_train)  # train the model\n",
        "    Y_pred = model.predict(X_test)  # predict the test data\n",
        "    fpr, tpr, thresholds = roc_curve(Y_test, model.predict_proba(X_test)[:, 1])\n",
        "    # Calculate Area under the curve to display on the plot\n",
        "    auc = roc_auc_score(Y_test, model.predict(X_test))\n",
        "    plt.plot(fpr,tpr,label=clf_name+\"  auc=\"+str(auc));\n",
        "    plt.legend(loc=4)\n",
        "\n"
      ],
      "execution_count": 0,
      "outputs": [
        {
          "output_type": "display_data",
          "data": {
            "image/png": "[encoded data removed]",
            "text/plain": [
              "<Figure size 720x720 with 1 Axes>"
            ]
          },
          "metadata": {
            "tags": [],
            "needs_background": "light"
          }
        }
      ]
    },
    {
      "metadata": {
        "id": "odC_mP8jD1BF",
        "colab_type": "text"
      },
      "cell_type": "markdown",
      "source": [
        "Looking at the above AUC curve, we should pick either Logistic or Gradient Boosting Classifier.. Since GB Classifier has a fair recall. I'll go with GB Classifier"
      ]
    },
    {
      "metadata": {
        "id": "56xjsl69D1BH",
        "colab_type": "text"
      },
      "cell_type": "markdown",
      "source": [
        "Also, Note that the target variable is imbalaced and we've not yet trained the model with under/over sampling data.. "
      ]
    },
    {
      "metadata": {
        "id": "hvRrOWCfD1BI",
        "colab_type": "text"
      },
      "cell_type": "markdown",
      "source": [
        "Let's now use undersampling method for training the models..\n",
        "\n",
        "I'll update the code soon.."
      ]
    }
  ]
}